{
 "cells": [
  {
   "cell_type": "markdown",
   "metadata": {},
   "source": [
    "** IMPORT FEATURE VECTORS **"
   ]
  },
  {
   "cell_type": "code",
   "execution_count": 64,
   "metadata": {},
   "outputs": [
    {
     "data": {
      "text/html": [
       "<div>\n",
       "<style scoped>\n",
       "    .dataframe tbody tr th:only-of-type {\n",
       "        vertical-align: middle;\n",
       "    }\n",
       "\n",
       "    .dataframe tbody tr th {\n",
       "        vertical-align: top;\n",
       "    }\n",
       "\n",
       "    .dataframe thead th {\n",
       "        text-align: right;\n",
       "    }\n",
       "</style>\n",
       "<table border=\"1\" class=\"dataframe\">\n",
       "  <thead>\n",
       "    <tr style=\"text-align: right;\">\n",
       "      <th></th>\n",
       "      <th>FGM_0</th>\n",
       "      <th>FGM_1</th>\n",
       "      <th>FGA_0</th>\n",
       "      <th>FGA_1</th>\n",
       "      <th>FG_PCT_0</th>\n",
       "      <th>FG_PCT_1</th>\n",
       "      <th>FG3M_0</th>\n",
       "      <th>FG3M_1</th>\n",
       "      <th>FG3A_0</th>\n",
       "      <th>FG3A_1</th>\n",
       "      <th>...</th>\n",
       "      <th>USG_PCT_1</th>\n",
       "      <th>PACE_0</th>\n",
       "      <th>PACE_1</th>\n",
       "      <th>PIE_0</th>\n",
       "      <th>PIE_1</th>\n",
       "      <th>HOME_0</th>\n",
       "      <th>HOME_1</th>\n",
       "      <th>WIN_PCT_0</th>\n",
       "      <th>WIN_PCT_1</th>\n",
       "      <th>WINNER</th>\n",
       "    </tr>\n",
       "  </thead>\n",
       "  <tbody>\n",
       "    <tr>\n",
       "      <th>0</th>\n",
       "      <td>34.600000</td>\n",
       "      <td>34.266667</td>\n",
       "      <td>83.800000</td>\n",
       "      <td>81.933333</td>\n",
       "      <td>0.415067</td>\n",
       "      <td>0.419733</td>\n",
       "      <td>8.000000</td>\n",
       "      <td>8.666667</td>\n",
       "      <td>24.933333</td>\n",
       "      <td>27.333333</td>\n",
       "      <td>...</td>\n",
       "      <td>0.198000</td>\n",
       "      <td>99.208000</td>\n",
       "      <td>100.240000</td>\n",
       "      <td>0.441733</td>\n",
       "      <td>0.419400</td>\n",
       "      <td>0</td>\n",
       "      <td>1</td>\n",
       "      <td>0.133333</td>\n",
       "      <td>0.000000</td>\n",
       "      <td>1</td>\n",
       "    </tr>\n",
       "    <tr>\n",
       "      <th>1</th>\n",
       "      <td>38.400000</td>\n",
       "      <td>39.733333</td>\n",
       "      <td>86.666667</td>\n",
       "      <td>88.400000</td>\n",
       "      <td>0.443600</td>\n",
       "      <td>0.451533</td>\n",
       "      <td>5.066667</td>\n",
       "      <td>11.000000</td>\n",
       "      <td>16.533333</td>\n",
       "      <td>26.866667</td>\n",
       "      <td>...</td>\n",
       "      <td>0.198733</td>\n",
       "      <td>98.641333</td>\n",
       "      <td>102.258667</td>\n",
       "      <td>0.476200</td>\n",
       "      <td>0.499333</td>\n",
       "      <td>1</td>\n",
       "      <td>0</td>\n",
       "      <td>0.266667</td>\n",
       "      <td>0.466667</td>\n",
       "      <td>0</td>\n",
       "    </tr>\n",
       "    <tr>\n",
       "      <th>2</th>\n",
       "      <td>38.466667</td>\n",
       "      <td>37.333333</td>\n",
       "      <td>87.733333</td>\n",
       "      <td>83.333333</td>\n",
       "      <td>0.439867</td>\n",
       "      <td>0.449800</td>\n",
       "      <td>8.466667</td>\n",
       "      <td>5.666667</td>\n",
       "      <td>23.133333</td>\n",
       "      <td>16.400000</td>\n",
       "      <td>...</td>\n",
       "      <td>0.198933</td>\n",
       "      <td>97.902000</td>\n",
       "      <td>98.836667</td>\n",
       "      <td>0.501533</td>\n",
       "      <td>0.503867</td>\n",
       "      <td>0</td>\n",
       "      <td>1</td>\n",
       "      <td>0.600000</td>\n",
       "      <td>0.400000</td>\n",
       "      <td>0</td>\n",
       "    </tr>\n",
       "    <tr>\n",
       "      <th>3</th>\n",
       "      <td>38.133333</td>\n",
       "      <td>34.533333</td>\n",
       "      <td>85.533333</td>\n",
       "      <td>81.600000</td>\n",
       "      <td>0.446267</td>\n",
       "      <td>0.426533</td>\n",
       "      <td>8.933333</td>\n",
       "      <td>5.733333</td>\n",
       "      <td>25.866667</td>\n",
       "      <td>18.066667</td>\n",
       "      <td>...</td>\n",
       "      <td>0.198667</td>\n",
       "      <td>100.094667</td>\n",
       "      <td>97.789333</td>\n",
       "      <td>0.460000</td>\n",
       "      <td>0.479000</td>\n",
       "      <td>1</td>\n",
       "      <td>0</td>\n",
       "      <td>0.266667</td>\n",
       "      <td>0.533333</td>\n",
       "      <td>1</td>\n",
       "    </tr>\n",
       "    <tr>\n",
       "      <th>4</th>\n",
       "      <td>36.133333</td>\n",
       "      <td>37.266667</td>\n",
       "      <td>81.466667</td>\n",
       "      <td>83.933333</td>\n",
       "      <td>0.444133</td>\n",
       "      <td>0.446200</td>\n",
       "      <td>7.866667</td>\n",
       "      <td>8.733333</td>\n",
       "      <td>25.666667</td>\n",
       "      <td>25.200000</td>\n",
       "      <td>...</td>\n",
       "      <td>0.199133</td>\n",
       "      <td>99.028000</td>\n",
       "      <td>97.070667</td>\n",
       "      <td>0.515200</td>\n",
       "      <td>0.478533</td>\n",
       "      <td>0</td>\n",
       "      <td>1</td>\n",
       "      <td>0.533333</td>\n",
       "      <td>0.400000</td>\n",
       "      <td>0</td>\n",
       "    </tr>\n",
       "  </tbody>\n",
       "</table>\n",
       "<p>5 rows × 73 columns</p>\n",
       "</div>"
      ],
      "text/plain": [
       "       FGM_0      FGM_1      FGA_0      FGA_1  FG_PCT_0  FG_PCT_1    FG3M_0  \\\n",
       "0  34.600000  34.266667  83.800000  81.933333  0.415067  0.419733  8.000000   \n",
       "1  38.400000  39.733333  86.666667  88.400000  0.443600  0.451533  5.066667   \n",
       "2  38.466667  37.333333  87.733333  83.333333  0.439867  0.449800  8.466667   \n",
       "3  38.133333  34.533333  85.533333  81.600000  0.446267  0.426533  8.933333   \n",
       "4  36.133333  37.266667  81.466667  83.933333  0.444133  0.446200  7.866667   \n",
       "\n",
       "      FG3M_1     FG3A_0     FG3A_1   ...    USG_PCT_1      PACE_0      PACE_1  \\\n",
       "0   8.666667  24.933333  27.333333   ...     0.198000   99.208000  100.240000   \n",
       "1  11.000000  16.533333  26.866667   ...     0.198733   98.641333  102.258667   \n",
       "2   5.666667  23.133333  16.400000   ...     0.198933   97.902000   98.836667   \n",
       "3   5.733333  25.866667  18.066667   ...     0.198667  100.094667   97.789333   \n",
       "4   8.733333  25.666667  25.200000   ...     0.199133   99.028000   97.070667   \n",
       "\n",
       "      PIE_0     PIE_1  HOME_0  HOME_1  WIN_PCT_0  WIN_PCT_1  WINNER  \n",
       "0  0.441733  0.419400       0       1   0.133333   0.000000       1  \n",
       "1  0.476200  0.499333       1       0   0.266667   0.466667       0  \n",
       "2  0.501533  0.503867       0       1   0.600000   0.400000       0  \n",
       "3  0.460000  0.479000       1       0   0.266667   0.533333       1  \n",
       "4  0.515200  0.478533       0       1   0.533333   0.400000       0  \n",
       "\n",
       "[5 rows x 73 columns]"
      ]
     },
     "execution_count": 64,
     "metadata": {},
     "output_type": "execute_result"
    }
   ],
   "source": [
    "from sklearn.model_selection import train_test_split\n",
    "import numpy as np\n",
    "import pandas as pd\n",
    "\n",
    "feature_vector = pd.read_csv('feature_vectors.csv')\n",
    "feature_vector = feature_vector.drop(['Unnamed: 0'], axis=1)\n",
    "feature_vector.head()"
   ]
  },
  {
   "cell_type": "code",
   "execution_count": 65,
   "metadata": {},
   "outputs": [
    {
     "data": {
      "text/plain": [
       "Index(['FGM_0', 'FGM_1', 'FGA_0', 'FGA_1', 'FG_PCT_0', 'FG_PCT_1', 'FG3M_0',\n",
       "       'FG3M_1', 'FG3A_0', 'FG3A_1', 'FG3_PCT_0', 'FG3_PCT_1', 'FTM_0',\n",
       "       'FTM_1', 'FTA_0', 'FTA_1', 'FT_PCT_0', 'FT_PCT_1', 'OREB_0', 'OREB_1',\n",
       "       'DREB_0', 'DREB_1', 'REB_0', 'REB_1', 'AST_0', 'AST_1', 'STL_0',\n",
       "       'STL_1', 'BLK_0', 'BLK_1', 'TO_0', 'TO_1', 'PF_0', 'PF_1', 'PTS_0',\n",
       "       'PTS_1', 'PLUS_MINUS_0', 'PLUS_MINUS_1', 'OFF_RATING_0', 'OFF_RATING_1',\n",
       "       'DEF_RATING_0', 'DEF_RATING_1', 'NET_RATING_0', 'NET_RATING_1',\n",
       "       'AST_PCT_0', 'AST_PCT_1', 'AST_TOV_0', 'AST_TOV_1', 'AST_RATIO_0',\n",
       "       'AST_RATIO_1', 'OREB_PCT_0', 'OREB_PCT_1', 'DREB_PCT_0', 'DREB_PCT_1',\n",
       "       'REB_PCT_0', 'REB_PCT_1', 'TM_TOV_PCT_0', 'TM_TOV_PCT_1', 'EFG_PCT_0',\n",
       "       'EFG_PCT_1', 'TS_PCT_0', 'TS_PCT_1', 'USG_PCT_0', 'USG_PCT_1', 'PACE_0',\n",
       "       'PACE_1', 'PIE_0', 'PIE_1', 'HOME_0', 'HOME_1', 'WIN_PCT_0',\n",
       "       'WIN_PCT_1', 'WINNER'],\n",
       "      dtype='object')"
      ]
     },
     "execution_count": 65,
     "metadata": {},
     "output_type": "execute_result"
    }
   ],
   "source": [
    "feature_vector.columns"
   ]
  },
  {
   "cell_type": "markdown",
   "metadata": {},
   "source": [
    "** NORMALIZE FEATURE VECTORS **"
   ]
  },
  {
   "cell_type": "code",
   "execution_count": 66,
   "metadata": {},
   "outputs": [
    {
     "data": {
      "text/html": [
       "<div>\n",
       "<style scoped>\n",
       "    .dataframe tbody tr th:only-of-type {\n",
       "        vertical-align: middle;\n",
       "    }\n",
       "\n",
       "    .dataframe tbody tr th {\n",
       "        vertical-align: top;\n",
       "    }\n",
       "\n",
       "    .dataframe thead th {\n",
       "        text-align: right;\n",
       "    }\n",
       "</style>\n",
       "<table border=\"1\" class=\"dataframe\">\n",
       "  <thead>\n",
       "    <tr style=\"text-align: right;\">\n",
       "      <th></th>\n",
       "      <th>FGM_0</th>\n",
       "      <th>FGM_1</th>\n",
       "      <th>FGA_0</th>\n",
       "      <th>FGA_1</th>\n",
       "      <th>FG_PCT_0</th>\n",
       "      <th>FG_PCT_1</th>\n",
       "      <th>FG3M_0</th>\n",
       "      <th>FG3M_1</th>\n",
       "      <th>FG3A_0</th>\n",
       "      <th>FG3A_1</th>\n",
       "      <th>...</th>\n",
       "      <th>USG_PCT_1</th>\n",
       "      <th>PACE_0</th>\n",
       "      <th>PACE_1</th>\n",
       "      <th>PIE_0</th>\n",
       "      <th>PIE_1</th>\n",
       "      <th>WIN_PCT_0</th>\n",
       "      <th>WIN_PCT_1</th>\n",
       "      <th>HOME_0</th>\n",
       "      <th>HOME_1</th>\n",
       "      <th>WINNER</th>\n",
       "    </tr>\n",
       "  </thead>\n",
       "  <tbody>\n",
       "    <tr>\n",
       "      <th>0</th>\n",
       "      <td>-2.072202</td>\n",
       "      <td>-2.194123</td>\n",
       "      <td>-0.370276</td>\n",
       "      <td>-1.130150</td>\n",
       "      <td>-2.114007</td>\n",
       "      <td>-1.807731</td>\n",
       "      <td>-0.557121</td>\n",
       "      <td>-0.248247</td>\n",
       "      <td>-0.092181</td>\n",
       "      <td>0.321283</td>\n",
       "      <td>...</td>\n",
       "      <td>-2.028184</td>\n",
       "      <td>0.342808</td>\n",
       "      <td>0.694840</td>\n",
       "      <td>-1.547088</td>\n",
       "      <td>-2.146397</td>\n",
       "      <td>-1.952130</td>\n",
       "      <td>-2.666994</td>\n",
       "      <td>0</td>\n",
       "      <td>1</td>\n",
       "      <td>1</td>\n",
       "    </tr>\n",
       "    <tr>\n",
       "      <th>1</th>\n",
       "      <td>-0.119086</td>\n",
       "      <td>0.505889</td>\n",
       "      <td>0.628419</td>\n",
       "      <td>1.219665</td>\n",
       "      <td>-0.652358</td>\n",
       "      <td>-0.232634</td>\n",
       "      <td>-2.108572</td>\n",
       "      <td>0.889466</td>\n",
       "      <td>-1.949002</td>\n",
       "      <td>0.226833</td>\n",
       "      <td>...</td>\n",
       "      <td>-0.323898</td>\n",
       "      <td>0.130380</td>\n",
       "      <td>1.453888</td>\n",
       "      <td>-0.629696</td>\n",
       "      <td>-0.020554</td>\n",
       "      <td>-1.239789</td>\n",
       "      <td>-0.183825</td>\n",
       "      <td>1</td>\n",
       "      <td>0</td>\n",
       "      <td>0</td>\n",
       "    </tr>\n",
       "    <tr>\n",
       "      <th>2</th>\n",
       "      <td>-0.084821</td>\n",
       "      <td>-0.679482</td>\n",
       "      <td>1.000027</td>\n",
       "      <td>-0.621427</td>\n",
       "      <td>-0.843601</td>\n",
       "      <td>-0.318488</td>\n",
       "      <td>-0.310300</td>\n",
       "      <td>-1.711021</td>\n",
       "      <td>-0.490071</td>\n",
       "      <td>-1.891561</td>\n",
       "      <td>...</td>\n",
       "      <td>0.140908</td>\n",
       "      <td>-0.146775</td>\n",
       "      <td>0.167167</td>\n",
       "      <td>0.044596</td>\n",
       "      <td>0.100011</td>\n",
       "      <td>0.541061</td>\n",
       "      <td>-0.538563</td>\n",
       "      <td>0</td>\n",
       "      <td>1</td>\n",
       "      <td>0</td>\n",
       "    </tr>\n",
       "    <tr>\n",
       "      <th>3</th>\n",
       "      <td>-0.256147</td>\n",
       "      <td>-2.062416</td>\n",
       "      <td>0.233586</td>\n",
       "      <td>-1.251275</td>\n",
       "      <td>-0.515755</td>\n",
       "      <td>-1.470918</td>\n",
       "      <td>-0.063478</td>\n",
       "      <td>-1.678514</td>\n",
       "      <td>0.114132</td>\n",
       "      <td>-1.554237</td>\n",
       "      <td>...</td>\n",
       "      <td>-0.478833</td>\n",
       "      <td>0.675194</td>\n",
       "      <td>-0.226645</td>\n",
       "      <td>-1.060888</td>\n",
       "      <td>-0.561323</td>\n",
       "      <td>-1.239789</td>\n",
       "      <td>0.170914</td>\n",
       "      <td>1</td>\n",
       "      <td>0</td>\n",
       "      <td>1</td>\n",
       "    </tr>\n",
       "    <tr>\n",
       "      <th>4</th>\n",
       "      <td>-1.284103</td>\n",
       "      <td>-0.712409</td>\n",
       "      <td>-1.183168</td>\n",
       "      <td>-0.403403</td>\n",
       "      <td>-0.625037</td>\n",
       "      <td>-0.496801</td>\n",
       "      <td>-0.627642</td>\n",
       "      <td>-0.215741</td>\n",
       "      <td>0.069922</td>\n",
       "      <td>-0.110491</td>\n",
       "      <td>...</td>\n",
       "      <td>0.605713</td>\n",
       "      <td>0.275331</td>\n",
       "      <td>-0.496874</td>\n",
       "      <td>0.408359</td>\n",
       "      <td>-0.573734</td>\n",
       "      <td>0.184891</td>\n",
       "      <td>-0.538563</td>\n",
       "      <td>0</td>\n",
       "      <td>1</td>\n",
       "      <td>0</td>\n",
       "    </tr>\n",
       "  </tbody>\n",
       "</table>\n",
       "<p>5 rows × 73 columns</p>\n",
       "</div>"
      ],
      "text/plain": [
       "      FGM_0     FGM_1     FGA_0     FGA_1  FG_PCT_0  FG_PCT_1    FG3M_0  \\\n",
       "0 -2.072202 -2.194123 -0.370276 -1.130150 -2.114007 -1.807731 -0.557121   \n",
       "1 -0.119086  0.505889  0.628419  1.219665 -0.652358 -0.232634 -2.108572   \n",
       "2 -0.084821 -0.679482  1.000027 -0.621427 -0.843601 -0.318488 -0.310300   \n",
       "3 -0.256147 -2.062416  0.233586 -1.251275 -0.515755 -1.470918 -0.063478   \n",
       "4 -1.284103 -0.712409 -1.183168 -0.403403 -0.625037 -0.496801 -0.627642   \n",
       "\n",
       "     FG3M_1    FG3A_0    FG3A_1   ...    USG_PCT_1    PACE_0    PACE_1  \\\n",
       "0 -0.248247 -0.092181  0.321283   ...    -2.028184  0.342808  0.694840   \n",
       "1  0.889466 -1.949002  0.226833   ...    -0.323898  0.130380  1.453888   \n",
       "2 -1.711021 -0.490071 -1.891561   ...     0.140908 -0.146775  0.167167   \n",
       "3 -1.678514  0.114132 -1.554237   ...    -0.478833  0.675194 -0.226645   \n",
       "4 -0.215741  0.069922 -0.110491   ...     0.605713  0.275331 -0.496874   \n",
       "\n",
       "      PIE_0     PIE_1  WIN_PCT_0  WIN_PCT_1  HOME_0  HOME_1  WINNER  \n",
       "0 -1.547088 -2.146397  -1.952130  -2.666994       0       1       1  \n",
       "1 -0.629696 -0.020554  -1.239789  -0.183825       1       0       0  \n",
       "2  0.044596  0.100011   0.541061  -0.538563       0       1       0  \n",
       "3 -1.060888 -0.561323  -1.239789   0.170914       1       0       1  \n",
       "4  0.408359 -0.573734   0.184891  -0.538563       0       1       0  \n",
       "\n",
       "[5 rows x 73 columns]"
      ]
     },
     "execution_count": 66,
     "metadata": {},
     "output_type": "execute_result"
    }
   ],
   "source": [
    "fv_float = feature_vector.select_dtypes(include=[np.float])\n",
    "Z_score = (fv_float-fv_float.mean()) / fv_float.std()\n",
    "fv_norm = pd.DataFrame(Z_score,index=feature_vector.index)\n",
    "fv_norm['HOME_0'] = feature_vector['HOME_0']\n",
    "fv_norm['HOME_1'] = feature_vector['HOME_1']\n",
    "fv_norm['WINNER'] = feature_vector['WINNER']\n",
    "fv_norm.head()"
   ]
  },
  {
   "cell_type": "markdown",
   "metadata": {},
   "source": [
    "** SPLIT INTO TRAINING AND TESTING SETS **"
   ]
  },
  {
   "cell_type": "code",
   "execution_count": 67,
   "metadata": {},
   "outputs": [],
   "source": [
    "np.random.seed(1)\n",
    "\n",
    "col_corr = {'WINNER'}\n",
    "X = fv_norm[[col for col in fv_norm.columns if col not in col_corr]]\n",
    "\n",
    "y = fv_norm[['WINNER']]\n",
    "\n",
    "X_train, X_test, Y_train, Y_test = train_test_split( X, y, train_size = 2/3, test_size = 1/3)"
   ]
  },
  {
   "cell_type": "markdown",
   "metadata": {},
   "source": [
    "** RUN DIFFERENT CLASSIFIERS ON THE DATA **"
   ]
  },
  {
   "cell_type": "code",
   "execution_count": 68,
   "metadata": {},
   "outputs": [
    {
     "name": "stdout",
     "output_type": "stream",
     "text": [
      "Best hyperparameter, maxdepth = 3\n",
      "Test Accuracy = 0.6085\n"
     ]
    }
   ],
   "source": [
    "import numpy as np\n",
    "from sklearn import tree\n",
    "from sklearn.metrics import accuracy_score\n",
    "from sklearn.model_selection import cross_val_score\n",
    "\n",
    "maxdepths = [ 1,3,5,7,10,15,20,25,30 ]\n",
    "validationAcc = np.zeros(len(maxdepths))\n",
    "testAcc = np.zeros(len(maxdepths))\n",
    "index = 0\n",
    "\n",
    "np.random.seed(1)\n",
    "for depth in maxdepths:\n",
    "    clf = tree.DecisionTreeClassifier(max_depth=depth)\n",
    "    scores = cross_val_score(clf, X_train, Y_train, cv=5)\n",
    "    validationAcc[index] = np.mean( scores )\n",
    "\n",
    "    clf.fit(X_train, Y_train)   # train on entire training set\n",
    "    Y_predTest = clf.predict(X_test)\n",
    "    testAcc[index] = accuracy_score( Y_test, Y_predTest )\n",
    "    index += 1\n",
    "\n",
    "bestHyperparam = np.argmax(validationAcc)\n",
    "print('Best hyperparameter, maxdepth =', maxdepths[bestHyperparam])\n",
    "print('Test Accuracy = %.4f' % testAcc[bestHyperparam])"
   ]
  },
  {
   "cell_type": "code",
   "execution_count": 69,
   "metadata": {},
   "outputs": [
    {
     "name": "stdout",
     "output_type": "stream",
     "text": [
      "Train Accuracy = 0.6942\n",
      "Test Accuracy = 0.6453\n",
      "Selected C = 0.50\n"
     ]
    }
   ],
   "source": [
    "from sklearn import linear_model\n",
    "from sklearn.metrics import accuracy_score\n",
    "\n",
    "logistic = linear_model.LogisticRegressionCV(cv= 10 , Cs = [0.01, 0.05, 0.1, 0.5, 1] )\n",
    "logistic.fit( X_train, Y_train.values.ravel() )\n",
    "class_pred = logistic.predict( X_test )\n",
    "train_pred = logistic.predict( X_train )\n",
    "\n",
    "print('Train Accuracy = %.4f' % accuracy_score( Y_train, train_pred ))\n",
    "print('Test Accuracy = %.4f' % accuracy_score( Y_test, class_pred ))\n",
    "print('Selected C = %.2f' % logistic.C_)"
   ]
  },
  {
   "cell_type": "code",
   "execution_count": 70,
   "metadata": {},
   "outputs": [
    {
     "name": "stdout",
     "output_type": "stream",
     "text": [
      "Best hyperparameter, k = 25\n",
      "Test Accuracy = 0.6235\n"
     ]
    }
   ],
   "source": [
    "from sklearn.model_selection import cross_val_score\n",
    "from sklearn.neighbors import KNeighborsClassifier\n",
    "\n",
    "numNeighbors = [ 1, 3, 5, 7, 10, 15, 20, 25, 30 ]\n",
    "validationAcc = np.zeros(len(numNeighbors))\n",
    "testAcc = np.zeros(len(numNeighbors))\n",
    "index = 0\n",
    "\n",
    "np.random.seed(1)\n",
    "for nn in numNeighbors:\n",
    "    clf = KNeighborsClassifier( n_neighbors=nn )\n",
    "    scores = cross_val_score( clf, X_train, Y_train.values.ravel(), cv=5 )\n",
    "    validationAcc[index] = np.mean(scores)\n",
    "    clf.fit(X_train, Y_train.values.ravel())\n",
    "    Y_predTest = clf.predict(X_test)\n",
    "    testAcc[index] = accuracy_score(Y_test, Y_predTest)\n",
    "    index += 1\n",
    "    \n",
    "bestHyperparam = np.argmax(validationAcc)\n",
    "print('Best hyperparameter, k =', numNeighbors[bestHyperparam])\n",
    "print('Test Accuracy = %.4f' % testAcc[bestHyperparam])"
   ]
  },
  {
   "cell_type": "code",
   "execution_count": 71,
   "metadata": {},
   "outputs": [
    {
     "name": "stdout",
     "output_type": "stream",
     "text": [
      "Train Accuracy = 1.0000\n",
      "Test Accuracy = 0.6385\n"
     ]
    }
   ],
   "source": [
    "from sklearn import ensemble\n",
    "from sklearn.tree import DecisionTreeClassifier\n",
    "\n",
    "numEstimators = 500\n",
    "np.random.seed(1)\n",
    "clf = ensemble.RandomForestClassifier(n_estimators=numEstimators)\n",
    "clf.fit(X_train, Y_train.values.ravel())\n",
    "class_pred = clf.predict(X_test)\n",
    "train_pred = clf.predict(X_train)\n",
    "\n",
    "print('Train Accuracy = %.4f' % accuracy_score( Y_train, train_pred ))\n",
    "print('Test Accuracy = %.4f' % accuracy_score( Y_test, class_pred ))"
   ]
  },
  {
   "cell_type": "markdown",
   "metadata": {},
   "source": [
    "** PERFORM A CORRELATION ANALYSIS ON THE DATA **"
   ]
  },
  {
   "cell_type": "code",
   "execution_count": 72,
   "metadata": {},
   "outputs": [
    {
     "data": {
      "text/plain": [
       "{'AST_RATIO_0',\n",
       " 'AST_RATIO_1',\n",
       " 'EFG_PCT_0',\n",
       " 'EFG_PCT_1',\n",
       " 'FG_PCT_0',\n",
       " 'FG_PCT_1',\n",
       " 'NET_RATING_0',\n",
       " 'NET_RATING_1',\n",
       " 'OFF_RATING_0',\n",
       " 'OFF_RATING_1',\n",
       " 'OREB_PCT_0',\n",
       " 'OREB_PCT_1',\n",
       " 'PIE_0',\n",
       " 'PIE_1',\n",
       " 'PLUS_MINUS_0',\n",
       " 'PLUS_MINUS_1',\n",
       " 'PTS_0',\n",
       " 'PTS_1',\n",
       " 'REB_0',\n",
       " 'REB_1',\n",
       " 'TM_TOV_PCT_0',\n",
       " 'TM_TOV_PCT_1',\n",
       " 'WINNER',\n",
       " 'WINN_0',\n",
       " 'WINN_1'}"
      ]
     },
     "execution_count": 72,
     "metadata": {},
     "output_type": "execute_result"
    }
   ],
   "source": [
    "colList = list(feature_vector.columns)\n",
    "colList.remove('WINNER')\n",
    "\n",
    "corr_matrix = feature_vector[colList].corr().abs()\n",
    "\n",
    "indices = np.where(corr_matrix > 0.7)\n",
    "indices = [(corr_matrix.index[x], corr_matrix.columns[y]) for x, y in zip(*indices)\n",
    "                                        if x != y and x < y]\n",
    "\n",
    "correlated = {}\n",
    "for item1, item2 in indices:\n",
    "    if item1 in correlated:\n",
    "        correlated[item1] += 1\n",
    "    else:\n",
    "        correlated[item1] = 1\n",
    "    if item2 in correlated:\n",
    "        correlated[item2] += 1\n",
    "    else:\n",
    "        correlated[item2] = 1\n",
    "\n",
    "correlated['WINNER'] = 5\n",
    "\n",
    "col_corr = set()\n",
    "for item1, item2 in indices:\n",
    "    if correlated[item1] > correlated[item2]:\n",
    "        col_corr.add(item1)\n",
    "    elif correlated[item1] < correlated[item2]:\n",
    "        col_corr.add(item2)\n",
    "\n",
    "col_corr.add('WINNER')\n",
    "\n",
    "col_corr_copy = set()\n",
    "\n",
    "for col in col_corr:\n",
    "    col_corr_copy.add(col)\n",
    "\n",
    "for col in col_corr_copy:\n",
    "    col = col[:-2]\n",
    "    col0 = col + '_0'\n",
    "    col1 = col + '_1'\n",
    "    col_corr.add(col0)\n",
    "    col_corr.add(col1)\n",
    "\n",
    "col_corr"
   ]
  },
  {
   "cell_type": "markdown",
   "metadata": {},
   "source": [
    "** RE-SPLIT THE DATA INTO TRAINING AND TESTING SETS **"
   ]
  },
  {
   "cell_type": "code",
   "execution_count": 73,
   "metadata": {},
   "outputs": [],
   "source": [
    "np.random.seed(1)\n",
    "\n",
    "X = fv_norm[[col for col in fv_norm.columns if col not in col_corr]]\n",
    "\n",
    "y = fv_norm[['WINNER']]\n",
    "\n",
    "X_train, X_test, Y_train, Y_test = train_test_split( X, y, train_size = 2/3, test_size = 1/3)"
   ]
  },
  {
   "cell_type": "markdown",
   "metadata": {},
   "source": [
    "** RE-RUN THE CLASSIFIERS **"
   ]
  },
  {
   "cell_type": "code",
   "execution_count": 74,
   "metadata": {},
   "outputs": [
    {
     "name": "stdout",
     "output_type": "stream",
     "text": [
      "Best hyperparameter, maxdepth = 3\n",
      "Test Accuracy = 0.5866\n"
     ]
    }
   ],
   "source": [
    "import numpy as np\n",
    "from sklearn import tree\n",
    "from sklearn.metrics import accuracy_score\n",
    "from sklearn.model_selection import cross_val_score\n",
    "\n",
    "maxdepths = [ 1,3,5,7,10,15,20,25,30 ]\n",
    "validationAcc = np.zeros(len(maxdepths))\n",
    "testAcc = np.zeros(len(maxdepths))\n",
    "index = 0\n",
    "\n",
    "np.random.seed(1)\n",
    "for depth in maxdepths:\n",
    "    clf = tree.DecisionTreeClassifier(max_depth=depth)\n",
    "    scores = cross_val_score(clf, X_train, Y_train, cv=5)\n",
    "    validationAcc[index] = np.mean( scores )\n",
    "\n",
    "    clf.fit(X_train, Y_train)   # train on entire training set\n",
    "    Y_predTest = clf.predict(X_test)\n",
    "    testAcc[index] = accuracy_score( Y_test, Y_predTest )\n",
    "    index += 1\n",
    "\n",
    "bestHyperparam = np.argmax(validationAcc)\n",
    "print('Best hyperparameter, maxdepth =', maxdepths[bestHyperparam])\n",
    "print('Test Accuracy = %.4f' % testAcc[bestHyperparam])"
   ]
  },
  {
   "cell_type": "code",
   "execution_count": 75,
   "metadata": {},
   "outputs": [
    {
     "name": "stdout",
     "output_type": "stream",
     "text": [
      "Train Accuracy = 0.6915\n",
      "Test Accuracy = 0.6276\n",
      "Selected C = 1.00\n"
     ]
    }
   ],
   "source": [
    "from sklearn import linear_model\n",
    "from sklearn.metrics import accuracy_score\n",
    "\n",
    "logistic = linear_model.LogisticRegressionCV(cv= 10 , Cs = [0.01, 0.05, 0.1, 0.5, 1] )\n",
    "logistic.fit( X_train, Y_train.values.ravel() )\n",
    "class_pred = logistic.predict( X_test )\n",
    "train_pred = logistic.predict( X_train )\n",
    "\n",
    "print('Train Accuracy = %.4f' % accuracy_score( Y_train, train_pred ))\n",
    "print('Test Accuracy = %.4f' % accuracy_score( Y_test, class_pred ))\n",
    "print('Selected C = %.2f' % logistic.C_)"
   ]
  },
  {
   "cell_type": "code",
   "execution_count": 76,
   "metadata": {},
   "outputs": [
    {
     "name": "stdout",
     "output_type": "stream",
     "text": [
      "Best hyperparameter, k = 30\n",
      "Test Accuracy = 0.6057\n"
     ]
    }
   ],
   "source": [
    "from sklearn.model_selection import cross_val_score\n",
    "from sklearn.neighbors import KNeighborsClassifier\n",
    "\n",
    "numNeighbors = [ 1, 3, 5, 7, 10, 15, 20, 25, 30 ]\n",
    "validationAcc = np.zeros(len(numNeighbors))\n",
    "testAcc = np.zeros(len(numNeighbors))\n",
    "index = 0\n",
    "\n",
    "np.random.seed(1)\n",
    "for nn in numNeighbors:\n",
    "    clf = KNeighborsClassifier( n_neighbors=nn )\n",
    "    scores = cross_val_score( clf, X_train, Y_train.values.ravel(), cv=5 )\n",
    "    validationAcc[index] = np.mean(scores)\n",
    "    clf.fit(X_train, Y_train.values.ravel())\n",
    "    Y_predTest = clf.predict(X_test)\n",
    "    testAcc[index] = accuracy_score(Y_test, Y_predTest)\n",
    "    index += 1\n",
    "    \n",
    "bestHyperparam = np.argmax(validationAcc)\n",
    "print('Best hyperparameter, k =', numNeighbors[bestHyperparam])\n",
    "print('Test Accuracy = %.4f' % testAcc[bestHyperparam])"
   ]
  },
  {
   "cell_type": "code",
   "execution_count": 77,
   "metadata": {},
   "outputs": [
    {
     "name": "stdout",
     "output_type": "stream",
     "text": [
      "Train Accuracy = 1.0000\n",
      "Test Accuracy = 0.6303\n"
     ]
    }
   ],
   "source": [
    "from sklearn import ensemble\n",
    "from sklearn.tree import DecisionTreeClassifier\n",
    "\n",
    "numEstimators = 500\n",
    "np.random.seed(1)\n",
    "clf = ensemble.RandomForestClassifier(n_estimators=numEstimators)\n",
    "clf.fit(X_train, Y_train.values.ravel())\n",
    "class_pred = clf.predict(X_test)\n",
    "train_pred = clf.predict(X_train)\n",
    "\n",
    "print('Train Accuracy = %.4f' % accuracy_score( Y_train, train_pred ))\n",
    "print('Test Accuracy = %.4f' % accuracy_score( Y_test, class_pred ))"
   ]
  },
  {
   "cell_type": "markdown",
   "metadata": {},
   "source": [
    "** BASE MODEL **"
   ]
  },
  {
   "cell_type": "code",
   "execution_count": 91,
   "metadata": {},
   "outputs": [
    {
     "name": "stdout",
     "output_type": "stream",
     "text": [
      "Base Accuracy = 0.5851\n"
     ]
    }
   ],
   "source": [
    "train_home_pred = []\n",
    "test_home_pred = []\n",
    "\n",
    "for i in Y_train.index:\n",
    "    if X_train['HOME_0'][i]:\n",
    "        train_home_pred.append(0)\n",
    "    else:\n",
    "        train_home_pred.append(1)\n",
    "\n",
    "for i in Y_test.index:\n",
    "    if X_test['HOME_0'][i]:\n",
    "        test_home_pred.append(0)\n",
    "    else:\n",
    "        test_home_pred.append(1)\n",
    "        \n",
    "print('Base Accuracy = %.4f' % (accuracy_score( Y_train, train_home_pred )*2/3 + accuracy_score( Y_test, test_home_pred )*1/3))"
   ]
  }
 ],
 "metadata": {
  "kernelspec": {
   "display_name": "Python 3",
   "language": "python",
   "name": "python3"
  },
  "language_info": {
   "codemirror_mode": {
    "name": "ipython",
    "version": 3
   },
   "file_extension": ".py",
   "mimetype": "text/x-python",
   "name": "python",
   "nbconvert_exporter": "python",
   "pygments_lexer": "ipython3",
   "version": "3.6.3"
  }
 },
 "nbformat": 4,
 "nbformat_minor": 2
}
